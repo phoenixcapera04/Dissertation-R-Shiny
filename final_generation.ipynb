{
  "nbformat": 4,
  "nbformat_minor": 0,
  "metadata": {
    "colab": {
      "provenance": [],
      "toc_visible": true,
      "authorship_tag": "ABX9TyMexgrvUKc9F3VJmdZD5CsG",
      "include_colab_link": true
    },
    "kernelspec": {
      "name": "python3",
      "display_name": "Python 3"
    },
    "language_info": {
      "name": "python"
    }
  },
  "cells": [
    {
      "cell_type": "markdown",
      "metadata": {
        "id": "view-in-github",
        "colab_type": "text"
      },
      "source": [
        "<a href=\"https://colab.research.google.com/github/phoenixcapera04/Dissertation-R-Shiny/blob/phoenixcapera04-patch-1/final_generation.ipynb\" target=\"_parent\"><img src=\"https://colab.research.google.com/assets/colab-badge.svg\" alt=\"Open In Colab\"/></a>"
      ]
    },
    {
      "cell_type": "code",
      "execution_count": 1,
      "metadata": {
        "colab": {
          "base_uri": "https://localhost:8080/"
        },
        "id": "BBmaiDVJnDqs",
        "outputId": "44617b64-7a71-4511-ef3f-3ff155fd0ccd"
      },
      "outputs": [
        {
          "output_type": "stream",
          "name": "stdout",
          "text": [
            "✅ final_student_population.csv created with 1620 records.\n"
          ]
        }
      ],
      "source": [
        "# === SETUP ===\n",
        "import pandas as pd\n",
        "import os\n",
        "\n",
        "# === CONFIGURATION ===\n",
        "academic_years = [\n",
        "    ('2019–2020', 2019), ('2020–2021', 2020), ('2021–2022', 2021),\n",
        "    ('2022–2023', 2022), ('2023–2024', 2023), ('2024–2025', 2024)\n",
        "]\n",
        "cohorts = list(range(7, 13))  # Years 7 to 12\n",
        "sub_cohorts = ['A', 'B', 'C']\n",
        "students_per_class = 15\n",
        "student_id_counter = 1\n",
        "students = []\n",
        "active_students = []\n",
        "\n",
        "# === CREATE FOLDERS ===\n",
        "os.makedirs(\"data/raw\", exist_ok=True)\n",
        "\n",
        "# === INITIAL STUDENT POPULATION FOR 2019–2020 ===\n",
        "for cohort in cohorts:\n",
        "    for subgroup in sub_cohorts:\n",
        "        for _ in range(students_per_class):\n",
        "            student = {\n",
        "                'student_id': f\"{student_id_counter:06d}\",\n",
        "                'academic_year': '2019–2020',\n",
        "                'year_start': 2019,\n",
        "                'cohort': cohort,\n",
        "                'sub_cohort': subgroup,\n",
        "                'start_cohort': f\"{cohort}{subgroup}\",\n",
        "                'progression_cohort': cohort + 1 if cohort < 12 else None,\n",
        "                'status': 'active' if cohort < 12 else 'graduated'\n",
        "            }\n",
        "            students.append(student)\n",
        "            if cohort < 12:\n",
        "                active_students.append(student)\n",
        "            student_id_counter += 1\n",
        "\n",
        "# === LOOP: PROGRESSION + NEW STUDENTS ===\n",
        "for year_name, year_start in academic_years[1:]:\n",
        "    new_active = []\n",
        "\n",
        "    for student in active_students:\n",
        "        new_cohort = student['cohort'] + 1\n",
        "        if new_cohort > 12:\n",
        "            continue  # Drop graduated students\n",
        "\n",
        "        progression = new_cohort + 1 if new_cohort < 12 else None\n",
        "\n",
        "        progressed = {\n",
        "            **student,\n",
        "            'academic_year': year_name,\n",
        "            'year_start': year_start,\n",
        "            'cohort': new_cohort,\n",
        "            'progression_cohort': progression,\n",
        "            'status': 'active' if new_cohort < 12 else 'graduated'\n",
        "        }\n",
        "        students.append(progressed)\n",
        "        new_active.append(progressed)\n",
        "\n",
        "    # Add new Year 7s\n",
        "    for subgroup in sub_cohorts:\n",
        "        for _ in range(students_per_class):\n",
        "            new_student = {\n",
        "                'student_id': f\"{student_id_counter:06d}\",\n",
        "                'academic_year': year_name,\n",
        "                'year_start': year_start,\n",
        "                'cohort': 7,\n",
        "                'sub_cohort': subgroup,\n",
        "                'start_cohort': f\"7{subgroup}\",\n",
        "                'progression_cohort': 8,\n",
        "                'status': 'new'\n",
        "            }\n",
        "            students.append(new_student)\n",
        "            new_active.append(new_student)\n",
        "            student_id_counter += 1\n",
        "\n",
        "    active_students = new_active\n",
        "\n",
        "# === EXPORT ===\n",
        "df = pd.DataFrame(students)\n",
        "df.to_csv(\"data/raw/final_student_population.csv\", index=False)\n",
        "print(f\"✅ final_student_population.csv created with {len(df)} records.\")\n"
      ]
    }
  ]
}